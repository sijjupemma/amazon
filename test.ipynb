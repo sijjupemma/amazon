{
 "cells": [
  {
   "cell_type": "code",
   "execution_count": 1,
   "metadata": {},
   "outputs": [],
   "source": [
    "import pandas as pd\n",
    "import tensorflow as tf,matplotlib.pyplot as plt\n"
   ]
  },
  {
   "cell_type": "code",
   "execution_count": 2,
   "metadata": {},
   "outputs": [],
   "source": [
    "df=pd.read_csv(r\"train.csv\")"
   ]
  },
  {
   "cell_type": "code",
   "execution_count": 3,
   "metadata": {},
   "outputs": [
    {
     "data": {
      "text/html": [
       "<div>\n",
       "<style scoped>\n",
       "    .dataframe tbody tr th:only-of-type {\n",
       "        vertical-align: middle;\n",
       "    }\n",
       "\n",
       "    .dataframe tbody tr th {\n",
       "        vertical-align: top;\n",
       "    }\n",
       "\n",
       "    .dataframe thead th {\n",
       "        text-align: right;\n",
       "    }\n",
       "</style>\n",
       "<table border=\"1\" class=\"dataframe\">\n",
       "  <thead>\n",
       "    <tr style=\"text-align: right;\">\n",
       "      <th></th>\n",
       "      <th>image_link</th>\n",
       "      <th>group_id</th>\n",
       "      <th>entity_name</th>\n",
       "      <th>entity_value</th>\n",
       "    </tr>\n",
       "  </thead>\n",
       "  <tbody>\n",
       "    <tr>\n",
       "      <th>536</th>\n",
       "      <td>https://m.media-amazon.com/images/I/610bLFQIS3...</td>\n",
       "      <td>442321</td>\n",
       "      <td>height</td>\n",
       "      <td>95.0 centimetre</td>\n",
       "    </tr>\n",
       "    <tr>\n",
       "      <th>1740</th>\n",
       "      <td>https://m.media-amazon.com/images/I/512Bph1Ouu...</td>\n",
       "      <td>507467</td>\n",
       "      <td>height</td>\n",
       "      <td>46.5 millimetre</td>\n",
       "    </tr>\n",
       "    <tr>\n",
       "      <th>2306</th>\n",
       "      <td>https://m.media-amazon.com/images/I/61+g4VX7ww...</td>\n",
       "      <td>237000</td>\n",
       "      <td>height</td>\n",
       "      <td>71.0 centimetre</td>\n",
       "    </tr>\n",
       "    <tr>\n",
       "      <th>2363</th>\n",
       "      <td>https://m.media-amazon.com/images/I/515cEBwzfo...</td>\n",
       "      <td>245959</td>\n",
       "      <td>height</td>\n",
       "      <td>28.0 centimetre</td>\n",
       "    </tr>\n",
       "    <tr>\n",
       "      <th>2667</th>\n",
       "      <td>https://m.media-amazon.com/images/I/51K5y5KflQ...</td>\n",
       "      <td>752266</td>\n",
       "      <td>height</td>\n",
       "      <td>308.0 millimetre</td>\n",
       "    </tr>\n",
       "    <tr>\n",
       "      <th>...</th>\n",
       "      <td>...</td>\n",
       "      <td>...</td>\n",
       "      <td>...</td>\n",
       "      <td>...</td>\n",
       "    </tr>\n",
       "    <tr>\n",
       "      <th>263854</th>\n",
       "      <td>https://m.media-amazon.com/images/I/612J1R1xHl...</td>\n",
       "      <td>558806</td>\n",
       "      <td>height</td>\n",
       "      <td>5.0 centimetre</td>\n",
       "    </tr>\n",
       "    <tr>\n",
       "      <th>263855</th>\n",
       "      <td>https://m.media-amazon.com/images/I/61Blzh2+28...</td>\n",
       "      <td>470067</td>\n",
       "      <td>height</td>\n",
       "      <td>8.5 inch</td>\n",
       "    </tr>\n",
       "    <tr>\n",
       "      <th>263856</th>\n",
       "      <td>https://m.media-amazon.com/images/I/51MsegDL9V...</td>\n",
       "      <td>204245</td>\n",
       "      <td>height</td>\n",
       "      <td>43.2 centimetre</td>\n",
       "    </tr>\n",
       "    <tr>\n",
       "      <th>263857</th>\n",
       "      <td>https://m.media-amazon.com/images/I/510KhVw4VS...</td>\n",
       "      <td>752266</td>\n",
       "      <td>height</td>\n",
       "      <td>9.1 centimetre</td>\n",
       "    </tr>\n",
       "    <tr>\n",
       "      <th>263858</th>\n",
       "      <td>https://m.media-amazon.com/images/I/51lzTNLQ-6...</td>\n",
       "      <td>416664</td>\n",
       "      <td>height</td>\n",
       "      <td>27.5 centimetre</td>\n",
       "    </tr>\n",
       "  </tbody>\n",
       "</table>\n",
       "<p>43597 rows × 4 columns</p>\n",
       "</div>"
      ],
      "text/plain": [
       "                                               image_link  group_id  \\\n",
       "536     https://m.media-amazon.com/images/I/610bLFQIS3...    442321   \n",
       "1740    https://m.media-amazon.com/images/I/512Bph1Ouu...    507467   \n",
       "2306    https://m.media-amazon.com/images/I/61+g4VX7ww...    237000   \n",
       "2363    https://m.media-amazon.com/images/I/515cEBwzfo...    245959   \n",
       "2667    https://m.media-amazon.com/images/I/51K5y5KflQ...    752266   \n",
       "...                                                   ...       ...   \n",
       "263854  https://m.media-amazon.com/images/I/612J1R1xHl...    558806   \n",
       "263855  https://m.media-amazon.com/images/I/61Blzh2+28...    470067   \n",
       "263856  https://m.media-amazon.com/images/I/51MsegDL9V...    204245   \n",
       "263857  https://m.media-amazon.com/images/I/510KhVw4VS...    752266   \n",
       "263858  https://m.media-amazon.com/images/I/51lzTNLQ-6...    416664   \n",
       "\n",
       "       entity_name      entity_value  \n",
       "536         height   95.0 centimetre  \n",
       "1740        height   46.5 millimetre  \n",
       "2306        height   71.0 centimetre  \n",
       "2363        height   28.0 centimetre  \n",
       "2667        height  308.0 millimetre  \n",
       "...            ...               ...  \n",
       "263854      height    5.0 centimetre  \n",
       "263855      height          8.5 inch  \n",
       "263856      height   43.2 centimetre  \n",
       "263857      height    9.1 centimetre  \n",
       "263858      height   27.5 centimetre  \n",
       "\n",
       "[43597 rows x 4 columns]"
      ]
     },
     "execution_count": 3,
     "metadata": {},
     "output_type": "execute_result"
    }
   ],
   "source": [
    "height_df = df[df['entity_name'] == 'height']"
   ]
  },
  {
   "cell_type": "code",
   "execution_count": 1,
   "metadata": {},
   "outputs": [],
   "source": [
    "def open_data(df):\n",
    "    import random\n",
    "    import webbrowser\n",
    "    import pandas\n",
    "    # List of image URLs\n",
    "    image_links=df[\"image_link\"]\n",
    "    # Function to open a random image link\n",
    "    def open_random_image():\n",
    "        ind=random.randint(0,len(df))\n",
    "        random_link = image_links[ind]\n",
    "        webbrowser.open(random_link)\n",
    "        entity_name=df.iloc[ind][\"entity_name\"]\n",
    "        entity_value=df.iloc[ind][\"entity_value\"]\n",
    "        print(\"entity_name: \",entity_name)\n",
    "        print(\"entity_value\",entity_value)\n",
    "        # Open random image   \n",
    "    open_random_image()\n"
   ]
  },
  {
   "cell_type": "code",
   "execution_count": 2,
   "metadata": {},
   "outputs": [
    {
     "ename": "NameError",
     "evalue": "name 'df' is not defined",
     "output_type": "error",
     "traceback": [
      "\u001b[1;31m---------------------------------------------------------------------------\u001b[0m",
      "\u001b[1;31mNameError\u001b[0m                                 Traceback (most recent call last)",
      "Cell \u001b[1;32mIn[2], line 1\u001b[0m\n\u001b[1;32m----> 1\u001b[0m open_data(\u001b[43mdf\u001b[49m)\n",
      "\u001b[1;31mNameError\u001b[0m: name 'df' is not defined"
     ]
    }
   ],
   "source": [
    "open_data(df)"
   ]
  }
 ],
 "metadata": {
  "kernelspec": {
   "display_name": ".venv",
   "language": "python",
   "name": "python3"
  },
  "language_info": {
   "codemirror_mode": {
    "name": "ipython",
    "version": 3
   },
   "file_extension": ".py",
   "mimetype": "text/x-python",
   "name": "python",
   "nbconvert_exporter": "python",
   "pygments_lexer": "ipython3",
   "version": "3.11.1"
  }
 },
 "nbformat": 4,
 "nbformat_minor": 2
}
